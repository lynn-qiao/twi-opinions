{
 "cells": [
  {
   "cell_type": "code",
   "execution_count": 3,
   "metadata": {},
   "outputs": [],
   "source": [
    "import scipy.stats as stats"
   ]
  },
  {
   "cell_type": "code",
   "execution_count": 142,
   "metadata": {},
   "outputs": [],
   "source": [
    "n = 500\n",
    "\n",
    "mu = 100\n",
    "sigma = 10\n",
    "\n",
    "slope = 5\n",
    "intercept = 20\n",
    "\n",
    "noise = 10\n",
    "\n",
    "poly_features = 2\n",
    "\n",
    "models = {'lr': LinearRegression(fit_intercept=True), \n",
    "          'ridge': Ridge(fit_intercept=True, alpha=1)}\n",
    "\n",
    "split = 0.2"
   ]
  },
  {
   "cell_type": "markdown",
   "metadata": {},
   "source": [
    "from sklearn.linear_model import LinearRegression, Ridge\n",
    "from sklearn.ensemble import RandomForestRegressor\n",
    "from sklearn.model_selection import train_test_split"
   ]
  },
  {
   "cell_type": "markdown",
   "metadata": {},
   "source": [
    "from sklearn.preprocessing import PolynomialFeatures"
   ]
  },
  {
   "cell_type": "markdown",
   "metadata": {},
   "source": [
    "from sklearn.pipeline import Pipeline"
   ]
  },
  {
   "cell_type": "markdown",
   "metadata": {},
   "source": [
    "import altair as alt"
   ]
  },
  {
   "cell_type": "markdown",
   "metadata": {},
   "source": [
    "import numpy as np\n",
    "import pandas as pd"
   ]
  },
  {
   "cell_type": "code",
   "execution_count": 157,
   "metadata": {},
   "outputs": [
    {
     "name": "stdout",
     "output_type": "stream",
     "text": [
      "(400, 1)\n",
      "(10, 1)\n",
      "(10,)\n",
      "(10, 1)\n",
      "(10,)\n"
     ]
    },
    {
     "data": {
      "text/html": [
       "\n",
       "<div id=\"altair-viz-44f25901466d4cf6a938efd373989e2b\"></div>\n",
       "<script type=\"text/javascript\">\n",
       "  (function(spec, embedOpt){\n",
       "    const outputDiv = document.getElementById(\"altair-viz-44f25901466d4cf6a938efd373989e2b\");\n",
       "    const paths = {\n",
       "      \"vega\": \"https://cdn.jsdelivr.net/npm//vega@5?noext\",\n",
       "      \"vega-lib\": \"https://cdn.jsdelivr.net/npm//vega-lib?noext\",\n",
       "      \"vega-lite\": \"https://cdn.jsdelivr.net/npm//vega-lite@4.0.2?noext\",\n",
       "      \"vega-embed\": \"https://cdn.jsdelivr.net/npm//vega-embed@6?noext\",\n",
       "    };\n",
       "\n",
       "    function loadScript(lib) {\n",
       "      return new Promise(function(resolve, reject) {\n",
       "        var s = document.createElement('script');\n",
       "        s.src = paths[lib];\n",
       "        s.async = true;\n",
       "        s.onload = () => resolve(paths[lib]);\n",
       "        s.onerror = () => reject(`Error loading script: ${paths[lib]}`);\n",
       "        document.getElementsByTagName(\"head\")[0].appendChild(s);\n",
       "      });\n",
       "    }\n",
       "\n",
       "    function showError(err) {\n",
       "      outputDiv.innerHTML = `<div class=\"error\" style=\"color:red;\">${err}</div>`;\n",
       "      throw err;\n",
       "    }\n",
       "\n",
       "    function displayChart(vegaEmbed) {\n",
       "      vegaEmbed(outputDiv, spec, embedOpt)\n",
       "        .catch(err => showError(`Javascript Error: ${err.message}<br>This usually means there's a typo in your chart specification. See the javascript console for the full traceback.`));\n",
       "    }\n",
       "\n",
       "    if(typeof define === \"function\" && define.amd) {\n",
       "      requirejs.config({paths});\n",
       "      require([\"vega-embed\"], displayChart, err => showError(`Error loading script: ${err.message}`));\n",
       "    } else if (typeof vegaEmbed === \"function\") {\n",
       "      displayChart(vegaEmbed);\n",
       "    } else {\n",
       "      loadScript(\"vega\")\n",
       "        .then(() => loadScript(\"vega-lite\"))\n",
       "        .then(() => loadScript(\"vega-embed\"))\n",
       "        .catch(showError)\n",
       "        .then(() => displayChart(vegaEmbed));\n",
       "    }\n",
       "  })({\"config\": {\"view\": {\"continuousWidth\": 400, \"continuousHeight\": 300}}, \"data\": {\"name\": \"data-be7da685619383d64836da9607b6fb49\"}, \"mark\": \"line\", \"encoding\": {\"color\": {\"type\": \"nominal\", \"field\": \"model\"}, \"x\": {\"type\": \"quantitative\", \"field\": \"X\"}, \"y\": {\"type\": \"quantitative\", \"field\": \"y\"}}, \"$schema\": \"https://vega.github.io/schema/vega-lite/v4.0.2.json\", \"datasets\": {\"data-be7da685619383d64836da9607b6fb49\": [{\"X\": -10.0, \"y\": 67.05188814101167, \"model\": \"lr\"}, {\"X\": -7.777777777777778, \"y\": 56.72720582268124, \"model\": \"lr\"}, {\"X\": -5.555555555555555, \"y\": 51.37289958930678, \"model\": \"lr\"}, {\"X\": -3.333333333333333, \"y\": 50.98896944088828, \"model\": \"lr\"}, {\"X\": -1.1111111111111107, \"y\": 55.57541537742575, \"model\": \"lr\"}, {\"X\": 1.1111111111111107, \"y\": 65.13223739891917, \"model\": \"lr\"}, {\"X\": 3.333333333333334, \"y\": 79.65943550536856, \"model\": \"lr\"}, {\"X\": 5.555555555555557, \"y\": 99.15700969677394, \"model\": \"lr\"}, {\"X\": 7.777777777777779, \"y\": 123.62495997313525, \"model\": \"lr\"}, {\"X\": 10.0, \"y\": 153.06328633445253, \"model\": \"lr\"}, {\"X\": -10.0, \"y\": 68.47348966741782, \"model\": \"ridge\"}, {\"X\": -7.777777777777778, \"y\": 58.09119910253799, \"model\": \"ridge\"}, {\"X\": -5.555555555555555, \"y\": 52.68046549290032, \"model\": \"ridge\"}, {\"X\": -3.333333333333333, \"y\": 52.2412888385048, \"model\": \"ridge\"}, {\"X\": -1.1111111111111107, \"y\": 56.77366913935143, \"model\": \"ridge\"}, {\"X\": 1.1111111111111107, \"y\": 66.27760639544022, \"model\": \"ridge\"}, {\"X\": 3.333333333333334, \"y\": 80.75310060677117, \"model\": \"ridge\"}, {\"X\": 5.555555555555557, \"y\": 100.20015177334426, \"model\": \"ridge\"}, {\"X\": 7.777777777777779, \"y\": 124.61875989515951, \"model\": \"ridge\"}, {\"X\": 10.0, \"y\": 154.0089249722169, \"model\": \"ridge\"}]}}, {\"mode\": \"vega-lite\"});\n",
       "</script>"
      ],
      "text/plain": [
       "alt.Chart(...)"
      ]
     },
     "execution_count": 157,
     "metadata": {},
     "output_type": "execute_result"
    }
   ],
   "source": [
    "def gen_pipe(regressor, poly_features=2):\n",
    "\n",
    "    pipe = Pipeline([\n",
    "        ('poly', PolynomialFeatures(degree=poly_features)),\n",
    "        ('regressor', regressor)\n",
    "    ])\n",
    "    return pipe\n",
    "\n",
    "def generate_data(mu, sigma, n,  slope, intercept, noise, split):\n",
    "    dist = stats.norm(mu, sigma)\n",
    "    X = dist.rvs(n)\n",
    "    epsilon = stats.norm(2, noise).rvs(n)\n",
    "    y = slope * X + .5 * X**2 + intercept + epsilon\n",
    "\n",
    "    X_train, X_test, y_train, y_test = train_test_split(X.reshape(-1, 1), y, test_size=split)\n",
    "    return X_train, X_test, y_train, y_test\n",
    "\n",
    "\n",
    "\n",
    "def fit_models(models, X_train, y_train):\n",
    "    fits = {k: gen_pipe(v).fit(X_train, y_train) for k, v in models.items()}\n",
    "    print(X_train.shape)\n",
    "\n",
    "    coefs = {k: {'slope': v['regressor'].intercept_, 'intercept': v['regressor'].coef_[0]} for k, v in fits.items()}\n",
    "\n",
    "    return fits, coefs\n",
    "\n",
    "def score_models(fits, X_train, X_test, y_train, y_test):\n",
    "    \n",
    "    train_scores = {k: v.score(X_train, y_train) for k, v in fits.items()}\n",
    "    train_scores['data'] = 'train'\n",
    "    test_scores = {k: v.score(X_test, y_test) for k, v in fits.items()}\n",
    "    test_scores['data'] = 'test'\n",
    "    \n",
    "    return train_scores, test_scores\n",
    "\n",
    "def chart_fits(models, model_coefs):\n",
    "    \n",
    "    data = pd.DataFrame()\n",
    "    for model, coefs in model_coefs.items():\n",
    "        X = np.linspace(-10, 10, 10)\n",
    "        print(X.reshape(-1, 1).shape)\n",
    "        y = models[model].predict(X.reshape(-1, 1))\n",
    "        print(y.shape)\n",
    "        fit = pd.DataFrame()\n",
    "        fit['X'] = X\n",
    "        fit['y'] = y\n",
    "        fit['model'] = model\n",
    "        data = data.append(fit)\n",
    "\n",
    "    \n",
    "    chart = alt.Chart(data).mark_line().encode(\n",
    "        x='X',\n",
    "        y='y',\n",
    "        color='model'\n",
    "    )\n",
    "    \n",
    "    return chart\n",
    "\n",
    "def chart_scores(scores):\n",
    "    score_df = pd.DataFrame(scores)\n",
    "    score_df.melt(id_vars='data')\n",
    "\n",
    "    chart  = alt.Chart(score_df.melt(id_vars='data')).mark_bar().encode(\n",
    "        x='data:N',\n",
    "        y='value',\n",
    "        color='data',\n",
    "        column='variable:N'\n",
    "    )\n",
    "    return chart\n",
    "\n",
    "chart_scores(scores)\n",
    "    \n",
    "    \n",
    "X_train, X_test, y_train, y_test = generate_data(mu, sigma, n, slope, intercept, noise, split)\n",
    "\n",
    "\n",
    "fits, coefs = fit_models(models, X_train, y_train)\n",
    "\n",
    "scores = score_models(fits, X_train, X_test, y_train, y_test)\n",
    "\n",
    "chart = chart_fits(fits, coefs)\n",
    "chart"
   ]
  },
  {
   "cell_type": "code",
   "execution_count": 102,
   "metadata": {},
   "outputs": [
    {
     "data": {
      "text/html": [
       "\n",
       "<div id=\"altair-viz-780f3ba212da489dafe613afb326243a\"></div>\n",
       "<script type=\"text/javascript\">\n",
       "  (function(spec, embedOpt){\n",
       "    const outputDiv = document.getElementById(\"altair-viz-780f3ba212da489dafe613afb326243a\");\n",
       "    const paths = {\n",
       "      \"vega\": \"https://cdn.jsdelivr.net/npm//vega@5?noext\",\n",
       "      \"vega-lib\": \"https://cdn.jsdelivr.net/npm//vega-lib?noext\",\n",
       "      \"vega-lite\": \"https://cdn.jsdelivr.net/npm//vega-lite@4.0.2?noext\",\n",
       "      \"vega-embed\": \"https://cdn.jsdelivr.net/npm//vega-embed@6?noext\",\n",
       "    };\n",
       "\n",
       "    function loadScript(lib) {\n",
       "      return new Promise(function(resolve, reject) {\n",
       "        var s = document.createElement('script');\n",
       "        s.src = paths[lib];\n",
       "        s.async = true;\n",
       "        s.onload = () => resolve(paths[lib]);\n",
       "        s.onerror = () => reject(`Error loading script: ${paths[lib]}`);\n",
       "        document.getElementsByTagName(\"head\")[0].appendChild(s);\n",
       "      });\n",
       "    }\n",
       "\n",
       "    function showError(err) {\n",
       "      outputDiv.innerHTML = `<div class=\"error\" style=\"color:red;\">${err}</div>`;\n",
       "      throw err;\n",
       "    }\n",
       "\n",
       "    function displayChart(vegaEmbed) {\n",
       "      vegaEmbed(outputDiv, spec, embedOpt)\n",
       "        .catch(err => showError(`Javascript Error: ${err.message}<br>This usually means there's a typo in your chart specification. See the javascript console for the full traceback.`));\n",
       "    }\n",
       "\n",
       "    if(typeof define === \"function\" && define.amd) {\n",
       "      requirejs.config({paths});\n",
       "      require([\"vega-embed\"], displayChart, err => showError(`Error loading script: ${err.message}`));\n",
       "    } else if (typeof vegaEmbed === \"function\") {\n",
       "      displayChart(vegaEmbed);\n",
       "    } else {\n",
       "      loadScript(\"vega\")\n",
       "        .then(() => loadScript(\"vega-lite\"))\n",
       "        .then(() => loadScript(\"vega-embed\"))\n",
       "        .catch(showError)\n",
       "        .then(() => displayChart(vegaEmbed));\n",
       "    }\n",
       "  })({\"config\": {\"view\": {\"continuousWidth\": 400, \"continuousHeight\": 300}}, \"data\": {\"name\": \"data-b7696553ab916fec4400fdeb5468c3b6\"}, \"mark\": \"bar\", \"encoding\": {\"color\": {\"type\": \"nominal\", \"field\": \"data\"}, \"column\": {\"type\": \"nominal\", \"field\": \"variable\"}, \"x\": {\"type\": \"nominal\", \"field\": \"data\"}, \"y\": {\"type\": \"quantitative\", \"field\": \"value\"}}, \"$schema\": \"https://vega.github.io/schema/vega-lite/v4.0.2.json\", \"datasets\": {\"data-b7696553ab916fec4400fdeb5468c3b6\": [{\"data\": \"train\", \"variable\": \"lr\", \"value\": 0.997310453545017}, {\"data\": \"test\", \"variable\": \"lr\", \"value\": 0.9973442122691579}, {\"data\": \"train\", \"variable\": \"ridge\", \"value\": 0.9972972502540379}, {\"data\": \"test\", \"variable\": \"ridge\", \"value\": 0.9973851817698182}]}}, {\"mode\": \"vega-lite\"});\n",
       "</script>"
      ],
      "text/plain": [
       "alt.Chart(...)"
      ]
     },
     "execution_count": 102,
     "metadata": {},
     "output_type": "execute_result"
    }
   ],
   "source": [
    "def chart_scores(scores):\n",
    "    score_df = pd.DataFrame(scores)\n",
    "    score_df.melt(id_vars='data')\n",
    "\n",
    "    chart  = alt.Chart(score_df.melt(id_vars='data')).mark_bar().encode(\n",
    "        x='data:N',\n",
    "        y='value',\n",
    "        color='data',\n",
    "        column='variable:N'\n",
    "    )\n",
    "    return chart\n",
    "\n",
    "chart_scores(scores)"
   ]
  },
  {
   "cell_type": "code",
   "execution_count": null,
   "metadata": {},
   "outputs": [],
   "source": []
  }
 ],
 "metadata": {
  "kernelspec": {
   "display_name": "Python 3",
   "language": "python",
   "name": "python3"
  },
  "language_info": {
   "codemirror_mode": {
    "name": "ipython",
    "version": 3
   },
   "file_extension": ".py",
   "mimetype": "text/x-python",
   "name": "python",
   "nbconvert_exporter": "python",
   "pygments_lexer": "ipython3",
   "version": "3.7.5"
  }
 },
 "nbformat": 4,
 "nbformat_minor": 4
}
