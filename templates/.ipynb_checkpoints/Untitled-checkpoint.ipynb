{
 "cells": [
  {
   "cell_type": "code",
   "execution_count": 5,
   "metadata": {},
   "outputs": [],
   "source": [
    "import scipy.stats as stats"
   ]
  },
  {
   "cell_type": "code",
   "execution_count": 17,
   "metadata": {},
   "outputs": [],
   "source": [
    "from sklearn.linear_model import LinearRegression, Ridge\n",
    "from sklearn.ensemble import RandomForestRegressor"
   ]
  },
  {
   "cell_type": "code",
   "execution_count": 23,
   "metadata": {},
   "outputs": [],
   "source": [
    "n = 1000\n",
    "\n",
    "mu = 0\n",
    "sigma = 1\n",
    "\n",
    "slope = 2\n",
    "intercept = 1\n",
    "\n",
    "noise = 1\n",
    "\n",
    "models = [LinearRegression, Ridge, RandomForestRegressor]\n",
    "\n",
    "split = 0.2"
   ]
  },
  {
   "cell_type": "code",
   "execution_count": 35,
   "metadata": {},
   "outputs": [
    {
     "name": "stdout",
     "output_type": "stream",
     "text": [
      "X:\n",
      " [1.30033359 0.87655202 0.44125442 0.54560918 0.10221594]\n",
      "\n",
      "\n",
      "Y = 2x + 1 + N(0, 1):\n",
      " [2.32546634 1.84518483 1.81405404 0.62122567 1.9148925 ]\n"
     ]
    }
   ],
   "source": [
    "dist = stats.norm(mu,sigma)\n",
    "X = dist.rvs(n)\n",
    "print(\"X:\\n\" , x_values[:5])\n",
    "\n",
    "print(\"\\n\")\n",
    "epsilon = stats.norm(0, noise)\n",
    "y = slope * x_values + intercept + epsilon.rvs(n)\n",
    "print(f\"Y = {slope}x + {intercept} + N(0, {noise}):\\n\",  y_values[:5])\n",
    "\n",
    "fits = {model().fit(X,)\n",
    "    "
   ]
  },
  {
   "cell_type": "code",
   "execution_count": null,
   "metadata": {},
   "outputs": [],
   "source": [
    "stats.norm(0,1).rvs"
   ]
  },
  {
   "cell_type": "code",
   "execution_count": null,
   "metadata": {},
   "outputs": [],
   "source": []
  }
 ],
 "metadata": {
  "kernelspec": {
   "display_name": "Python 3",
   "language": "python",
   "name": "python3"
  },
  "language_info": {
   "codemirror_mode": {
    "name": "ipython",
    "version": 3
   },
   "file_extension": ".py",
   "mimetype": "text/x-python",
   "name": "python",
   "nbconvert_exporter": "python",
   "pygments_lexer": "ipython3",
   "version": "3.7.5"
  }
 },
 "nbformat": 4,
 "nbformat_minor": 4
}
